{
 "cells": [
  {
   "cell_type": "code",
   "execution_count": 34,
   "metadata": {},
   "outputs": [],
   "source": [
    "import requests\n",
    "from bs4 import BeautifulSoup\n",
    "import pandas as pd\n",
    "import numpy as np"
   ]
  },
  {
   "cell_type": "code",
   "execution_count": 35,
   "metadata": {},
   "outputs": [],
   "source": [
    "urllist = pd.read_excel(r\"C:\\Users\\Nitish.Ranjan\\Desktop\\Germany\\Steffen\\Web Crawling\\Nitish\\BNHO\\Url_list.xlsx\",sheet_name = 'Sheet2')"
   ]
  },
  {
   "cell_type": "code",
   "execution_count": 30,
   "metadata": {},
   "outputs": [],
   "source": [
    "#urllist"
   ]
  },
  {
   "cell_type": "code",
   "execution_count": 36,
   "metadata": {},
   "outputs": [],
   "source": [
    "links = urllist['URL'].tolist()"
   ]
  },
  {
   "cell_type": "code",
   "execution_count": 37,
   "metadata": {},
   "outputs": [],
   "source": [
    "p = len(links)"
   ]
  },
  {
   "cell_type": "code",
   "execution_count": 38,
   "metadata": {},
   "outputs": [],
   "source": [
    "finaltds = []\n",
    "i = 0\n",
    "for i in range(len(links)):\n",
    "    \n",
    "    page = requests.get(links[i])\n",
    "    soup = BeautifulSoup(page.text, 'html.parser')\n",
    "    #soup\n",
    "    mydivs = soup.findAll(\"li\",attrs = {\"class\": \"member-list-item\"})\n",
    "#     tds = []\n",
    "    for row in mydivs:\n",
    "        q = row.a.get('href')\n",
    "        add = 'http://www.bnho.de/'\n",
    "        add1 = add + q\n",
    "        finaltds.append(add1)\n",
    "    i + 1\n",
    "    #finaltds.append(tds)\n"
   ]
  },
  {
   "cell_type": "code",
   "execution_count": 39,
   "metadata": {},
   "outputs": [
    {
     "data": {
      "text/plain": [
       "579"
      ]
     },
     "execution_count": 39,
     "metadata": {},
     "output_type": "execute_result"
    }
   ],
   "source": [
    "len(finaltds)"
   ]
  },
  {
   "cell_type": "code",
   "execution_count": 40,
   "metadata": {},
   "outputs": [],
   "source": [
    "results = []\n",
    "j = 0\n",
    "for j in range(len(finaltds)):\n",
    "    pg = requests.get(finaltds[j])\n",
    "    sp = BeautifulSoup(pg.text, 'html.parser')\n",
    "    article_text = ''\n",
    "    article_text_2 = ''\n",
    "    article = sp.find(\"div\",attrs = {\"class\": \"member-single-item-details main-branch\"}).findAll('p')\n",
    "    for element in article:\n",
    "        article_text += '\\n' + ''.join(element.findAll(text = True))\n",
    "        article_text_2 += ''.join(element.findAll(text = True))\n",
    "        #art2 = article_text_2.replace(\"\\t\",\"\")\n",
    "        #art3 = art2.replace(\"\\t\",\"\")\n",
    "        art4 = art3.replace(\"\\xa0\",\" \")\n",
    "        art5 = art4.strip()\n",
    "    results.append(art5)      "
   ]
  },
  {
   "cell_type": "code",
   "execution_count": 41,
   "metadata": {},
   "outputs": [],
   "source": [
    "df1 = pd.DataFrame(results)"
   ]
  },
  {
   "cell_type": "code",
   "execution_count": 33,
   "metadata": {},
   "outputs": [],
   "source": [
    "df1.to_excel(r\"C:\\Users\\Nitish.Ranjan\\Desktop\\BHNO2.xlsx\",'Data', index=False, encoding ='utf-8') "
   ]
  }
 ],
 "metadata": {
  "kernelspec": {
   "display_name": "Python 3",
   "language": "python",
   "name": "python3"
  },
  "language_info": {
   "codemirror_mode": {
    "name": "ipython",
    "version": 3
   },
   "file_extension": ".py",
   "mimetype": "text/x-python",
   "name": "python",
   "nbconvert_exporter": "python",
   "pygments_lexer": "ipython3",
   "version": "3.6.4"
  }
 },
 "nbformat": 4,
 "nbformat_minor": 2
}
