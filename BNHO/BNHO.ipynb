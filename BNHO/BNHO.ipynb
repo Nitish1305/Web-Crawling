{
 "cells": [
  {
   "cell_type": "code",
   "execution_count": 4,
   "metadata": {},
   "outputs": [],
   "source": [
    "import requests\n",
    "from bs4 import BeautifulSoup\n",
    "import pandas as pd\n",
    "import numpy as np"
   ]
  },
  {
   "cell_type": "code",
   "execution_count": 27,
   "metadata": {},
   "outputs": [],
   "source": [
    "urllist = pd.read_excel(r\"C:\\Users\\Nitish.Ranjan\\Desktop\\Germany\\Steffen\\Web Crawling\\Nitish\\BNHO\\Url_list.xlsx\",sheet_name = 'Sheet2')"
   ]
  },
  {
   "cell_type": "code",
   "execution_count": 31,
   "metadata": {},
   "outputs": [],
   "source": [
    "links = urllist['URL'].tolist()"
   ]
  },
  {
   "cell_type": "code",
   "execution_count": 81,
   "metadata": {},
   "outputs": [],
   "source": [
    "page = requests.get(links[0])\n",
    "soup = BeautifulSoup(page.text, 'html.parser')\n",
    "#soup\n",
    "mydivs = soup.findAll(\"li\",attrs = {\"class\": \"member-list-item\"})\n",
    "#type(mydivs)\n",
    "# tds = []\n",
    "# for row in mydivs:\n",
    "#     tds.append(row.text)\n",
    "#     finaltds.append(tds)\n",
    "#     tds = []"
   ]
  },
  {
   "cell_type": "code",
   "execution_count": 84,
   "metadata": {},
   "outputs": [],
   "source": [
    "tds = []\n",
    "for row in mydivs:\n",
    "    p = row.a.get('href')\n",
    "    add = 'http://www.bnho.de/'\n",
    "    add1 = add + p\n",
    "    tds.append(add1)\n",
    "    "
   ]
  },
  {
   "cell_type": "code",
   "execution_count": 85,
   "metadata": {},
   "outputs": [
    {
     "data": {
      "text/plain": [
       "['http://www.bnho.de/mitgliederdetails/mitglieder/ansicht/detail/ulrike-abt-burladingen.html',\n",
       " 'http://www.bnho.de/mitgliederdetails/mitglieder/ansicht/detail/ayoub-abu-abdu-datteln.html',\n",
       " 'http://www.bnho.de/mitgliederdetails/mitglieder/ansicht/detail/matthias-adler-braunschweig.html',\n",
       " 'http://www.bnho.de/mitgliederdetails/mitglieder/ansicht/detail/konstantin-akrivakis-hamburg.html',\n",
       " 'http://www.bnho.de/mitgliederdetails/mitglieder/ansicht/detail/ali-aldaoud-leipzig.html',\n",
       " 'http://www.bnho.de/mitgliederdetails/mitglieder/ansicht/detail/burkhard-alkemper-borken.html',\n",
       " 'http://www.bnho.de/mitgliederdetails/mitglieder/ansicht/detail/andreas-ammon-goettingen.html',\n",
       " 'http://www.bnho.de/mitgliederdetails/mitglieder/ansicht/detail/juergen-anhuf-duisburg.html',\n",
       " 'http://www.bnho.de/mitgliederdetails/mitglieder/ansicht/detail/peter-anhut-kronach.html',\n",
       " 'http://www.bnho.de/mitgliederdetails/mitglieder/ansicht/detail/heike-arzberger-meissen.html']"
      ]
     },
     "execution_count": 85,
     "metadata": {},
     "output_type": "execute_result"
    }
   ],
   "source": [
    "tds"
   ]
  },
  {
   "cell_type": "code",
   "execution_count": 98,
   "metadata": {},
   "outputs": [
    {
     "name": "stdout",
     "output_type": "stream",
     "text": [
      "\n",
      "Ulrike Abt\n",
      "\t\tHauptstraße 31\n",
      "\t\t72393 Burladingen\n",
      "\t\n"
     ]
    }
   ],
   "source": [
    "pg = requests.get(tds[0])\n",
    "sp = BeautifulSoup(pg.text, 'html.parser')\n",
    "pdiv = sp.find(\"div\",attrs = {\"class\": \"member-single-item-details main-branch\"}).findAll('p')\n",
    "for a in pdiv:\n",
    "    print(a.find('p').text)\n",
    "    \n",
    "    \n",
    "    \n",
    "    "
   ]
  },
  {
   "cell_type": "code",
   "execution_count": 107,
   "metadata": {},
   "outputs": [],
   "source": [
    "pg = requests.get(tds[0])\n",
    "sp = BeautifulSoup(pg.text, 'html.parser')\n",
    "article_text = ''\n",
    "article_text_2 = ''\n",
    "article = sp.find(\"div\",attrs = {\"class\": \"member-single-item-details main-branch\"}).findAll('p')\n",
    "for element in article:\n",
    "    article_text += '\\n' + ''.join(element.findAll(text = True))\n",
    "    article_text_2 += ''.join(element.findAll(text = True))"
   ]
  },
  {
   "cell_type": "code",
   "execution_count": 109,
   "metadata": {},
   "outputs": [
    {
     "name": "stdout",
     "output_type": "stream",
     "text": [
      "\n",
      "\n",
      "Ulrike Abt\n",
      "\t\tHauptstraße 31\n",
      "\t\t72393 Burladingen\n",
      "\t\n",
      "\n",
      "\t\tTel: 07475 95 50 0\n",
      "\t\tFax: \n",
      "\t\n",
      "\n",
      "\t\tKassenärztliche Vereinigung: Baden Württemberg\n",
      "\t\n",
      "\n",
      "\n",
      "\n"
     ]
    }
   ],
   "source": [
    "print(article_text)"
   ]
  },
  {
   "cell_type": "code",
   "execution_count": null,
   "metadata": {},
   "outputs": [],
   "source": []
  },
  {
   "cell_type": "code",
   "execution_count": 118,
   "metadata": {},
   "outputs": [
    {
     "data": {
      "text/plain": [
       "'Ulrike\\xa0Abt\\n\\t\\tHauptstraße 31\\n\\t\\t72393\\xa0Burladingen\\n\\t\\n\\t\\tTel:\\xa007475 95 50 0\\n\\t\\tFax:\\xa0\\n\\t\\n\\t\\tKassenärztliche Vereinigung: Baden Württemberg'"
      ]
     },
     "execution_count": 118,
     "metadata": {},
     "output_type": "execute_result"
    }
   ],
   "source": [
    "article_text_2.replace(\"\\t\",\"\")\n",
    "article_text_2.replace(\"\\n\",\"\")\n",
    "article_text_2.strip()"
   ]
  },
  {
   "cell_type": "code",
   "execution_count": 128,
   "metadata": {},
   "outputs": [],
   "source": [
    "art2 = article_text_2.replace(\"\\t\",\"\")"
   ]
  },
  {
   "cell_type": "code",
   "execution_count": 129,
   "metadata": {},
   "outputs": [],
   "source": [
    "art3 = art2.replace(\"\\t\",\"\")"
   ]
  },
  {
   "cell_type": "code",
   "execution_count": 134,
   "metadata": {},
   "outputs": [],
   "source": [
    "art4 = art3.replace(\"\\xa0\",\" \")"
   ]
  },
  {
   "cell_type": "code",
   "execution_count": 136,
   "metadata": {},
   "outputs": [],
   "source": [
    "art5 = art4.strip()"
   ]
  },
  {
   "cell_type": "code",
   "execution_count": 137,
   "metadata": {},
   "outputs": [
    {
     "data": {
      "text/plain": [
       "['Ulrike Abt',\n",
       " 'Hauptstraße 31',\n",
       " '72393 Burladingen',\n",
       " '',\n",
       " 'Tel: 07475 95 50 0',\n",
       " 'Fax: ',\n",
       " '',\n",
       " 'Kassenärztliche Vereinigung: Baden Württemberg']"
      ]
     },
     "execution_count": 137,
     "metadata": {},
     "output_type": "execute_result"
    }
   ],
   "source": [
    "art5.splitlines()"
   ]
  }
 ],
 "metadata": {
  "kernelspec": {
   "display_name": "Python 3",
   "language": "python",
   "name": "python3"
  },
  "language_info": {
   "codemirror_mode": {
    "name": "ipython",
    "version": 3
   },
   "file_extension": ".py",
   "mimetype": "text/x-python",
   "name": "python",
   "nbconvert_exporter": "python",
   "pygments_lexer": "ipython3",
   "version": "3.6.4"
  }
 },
 "nbformat": 4,
 "nbformat_minor": 2
}
